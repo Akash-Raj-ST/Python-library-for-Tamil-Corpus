{
  "cells": [
    {
      "cell_type": "markdown",
      "metadata": {
        "id": "QM3Ku1uY9yek"
      },
      "source": [
        "# **Import and Download Libraries**"
      ]
    },
    {
      "cell_type": "code",
      "execution_count": 1,
      "metadata": {
        "colab": {
          "base_uri": "https://localhost:8080/"
        },
        "id": "rQawFspplJku",
        "outputId": "c1150d3a-24d3-4ec4-a4d1-7fbb2504f2b6"
      },
      "outputs": [
        {
          "name": "stderr",
          "output_type": "stream",
          "text": [
            "[nltk_data] Downloading package punkt to\n",
            "[nltk_data]     C:\\Users\\jith0\\AppData\\Roaming\\nltk_data...\n",
            "[nltk_data]   Package punkt is already up-to-date!\n"
          ]
        },
        {
          "data": {
            "text/plain": [
              "True"
            ]
          },
          "execution_count": 1,
          "metadata": {},
          "output_type": "execute_result"
        }
      ],
      "source": [
        "import re\n",
        "import nltk\n",
        "import string\n",
        "import os\n",
        "\n",
        "nltk.download('punkt')"
      ]
    },
    {
      "cell_type": "markdown",
      "metadata": {
        "id": "CNAZIYb097d8"
      },
      "source": [
        "# **Store the characters in lists**"
      ]
    },
    {
      "cell_type": "code",
      "execution_count": 2,
      "metadata": {
        "colab": {
          "base_uri": "https://localhost:8080/"
        },
        "id": "GxSmAYNR_NzI",
        "outputId": "5dfe8604-13e4-4898-9e2c-ae080d4c2778"
      },
      "outputs": [
        {
          "name": "stdout",
          "output_type": "stream",
          "text": [
            "Tamil Vowels (உயிர் எழுத்துக்கள்)\n",
            "\n",
            "['அ', 'ஆ', 'இ', 'ஈ', 'உ', 'ஊ', 'எ', 'ஏ', 'ஐ', 'ஒ', 'ஓ', 'ஔ', 'ஃ']\n",
            "\n",
            "மெய் எழுத்துக்கள்\n",
            "\n",
            "['க', 'ச', 'ட', 'த', 'ப', 'ற']\n",
            "\n",
            "\n",
            "['ங', 'ஞ', 'ண', 'ந', 'ம', 'ன']\n",
            "\n",
            "\n",
            "['ய', 'ர', 'ல', 'வ', 'ழ', 'ள']\n",
            "\n",
            "Sanskrit Words in Tamil\n",
            "\n",
            "['ஸ', 'ஷ', 'ஜ', 'ஹ', 'க்ஷ', 'ஶ்ரீ', 'ஶ']\n",
            "\n",
            "்\n",
            "ா\n",
            "ி\n",
            "ீ\n",
            "ு\n",
            "ூ\n",
            "ெ\n",
            "ே\n",
            "ை\n",
            "ொ\n",
            "ோ\n",
            "ௌ\n"
          ]
        }
      ],
      "source": [
        "#uyir eluthu\n",
        "uyir = list('அஆஇஈஉஊஎஏஐஒஓஔஃ')\n",
        "\n",
        "print(\"Tamil Vowels (உயிர் எழுத்துக்கள்)\\n\")\n",
        "print(uyir)\n",
        "print(\"\")\n",
        "\n",
        "#Mei eluthu\n",
        "print(\"மெய் எழுத்துக்கள்\")\n",
        "mei = [\"க\",\"ங\",\"ச\",\"ஞ\",\"ட\",\"ண\",\"த\",\"ந\",\"ப\",\"ம\",\"ய\",\"ர\",\"ல\",\"வ\",\"ழ\",\"ள\",\"ற\",\"ன\"]\n",
        "\n",
        "#vallinam\n",
        "vallinam = [\"க\",\"ச\",\"ட\",\"த\",\"ப\",\"ற\"]\n",
        "\n",
        "print(\"\")\n",
        "print(vallinam)\n",
        "print(\"\")\n",
        "\n",
        "#Mellinam\n",
        "mellinam = [\"ங\",\"ஞ\",\"ண\",\"ந\",\"ம\",\"ன\"]\n",
        "\n",
        "print(\"\")\n",
        "print(mellinam)\n",
        "print(\"\")\n",
        "\n",
        "#Idayinam\n",
        "idayinam = [\"ய\",\"ர\",\"ல\",\"வ\",\"ழ\",\"ள\"]\n",
        "\n",
        "print(\"\")\n",
        "print(idayinam)\n",
        "print(\"\")\n",
        "\n",
        "#Sanskrit letters in tamil\n",
        "sanskrit = [\"ஸ\",\"ஷ\",\"ஜ\",\"ஹ\",\"க்ஷ\",\"ஶ்ரீ\",\"ஶ\"]\n",
        "\n",
        "print(\"Sanskrit Words in Tamil\\n\")\n",
        "print(sanskrit)\n",
        "print(\"\")\n",
        "\n",
        "#Ascii values for the characters like \"்\", \"ெ\", \"ோ\", \"ீ\"\n",
        "asc = [3021,3006,3007,3008,3009,3010,3014,3015,3016,3018,3019,3020]\n",
        "\n",
        "for x in asc:\n",
        "  print(chr(x))"
      ]
    },
    {
      "cell_type": "markdown",
      "metadata": {
        "id": "81UHvben_M1Z"
      },
      "source": [
        "# **Input in Tamil**"
      ]
    },
    {
      "cell_type": "code",
      "execution_count": 6,
      "metadata": {
        "id": "N6AEdKLd_uS3"
      },
      "outputs": [],
      "source": [
        "input1=\"ஏதென்சு மிகவும் பிரபலமான பண்டைய கிரேக்க சனநாயக நகர அரசு என்றாலும், இதுவே முதல் சனநாயக அரசு அல்ல; ஏதென்சுக்கு முன் பல நகர அரசுகள் இதேபோன்ற சனநாயக அரசியலமைப்பை ஏற்றுக்கொண்டிருந்தன. கிமு 4 ஆம் நூற்றாண்டின் பிற்பகுதியில்\"\n",
        "input=\"கடளே எனக்கு நல்ல குருவை அடையாளம் காட்டு பாரா தானோ என வேண்டினான் அவனையாடா அழைத்தாய் இதுவே அதாவது அவளாவது\""
      ]
    },
    {
      "cell_type": "markdown",
      "metadata": {
        "id": "CuR_xWf0FRi3"
      },
      "source": [
        "# **Punctuators and Digits**"
      ]
    },
    {
      "cell_type": "code",
      "execution_count": 7,
      "metadata": {
        "colab": {
          "base_uri": "https://localhost:8080/"
        },
        "id": "EbJbWtIAc7fh",
        "outputId": "0547d672-602b-4c5a-ec60-94c657fb8622"
      },
      "outputs": [
        {
          "name": "stdout",
          "output_type": "stream",
          "text": [
            "Punctuators count : 0\n",
            "digits count : 0\n"
          ]
        }
      ],
      "source": [
        "#Punctuators, signs and symbols and digits\n",
        "\n",
        "plist = [\",\",\";\",\":\",\"/\",\"\\\\\",\"(\",\")\",\"[\",\"]\",\"{\",\"}\",\"*\",\"+\",\"-\",\"_\",\"=\",\"@\",\"#\",\"$\",\"%\",\"^\",\"&\",\"*\",\"|\",\"/\",\"~\",\"`\",\"?\",\".\",\"<\",\">\",\"'\",\"\\\"\",\"‘\",\"’\"]\n",
        "nList = []\n",
        "\n",
        "count=0\n",
        "\n",
        "for x in input:\n",
        "  if x in plist:\n",
        "    nList.append(x)\n",
        "    count+=1\n",
        "\n",
        "digits = len(re.findall('[0-9]',input))\n",
        "\n",
        "print(\"Punctuators count : \"+str(count))\n",
        "print(\"digits count : \"+str(digits))\n",
        "\n",
        "nList=set(nList)\n",
        "\n",
        "for x in nList:\n",
        "  input = input.replace(x,\" \")"
      ]
    },
    {
      "cell_type": "markdown",
      "metadata": {
        "id": "MPv1XWVsFb7f"
      },
      "source": [
        "# **Word and Character Counts**"
      ]
    },
    {
      "cell_type": "code",
      "execution_count": 8,
      "metadata": {
        "colab": {
          "base_uri": "https://localhost:8080/"
        },
        "id": "SG1jopvlAHGV",
        "outputId": "e5bf4307-cdc0-4efd-e238-7b3666cd005a"
      },
      "outputs": [
        {
          "name": "stdout",
          "output_type": "stream",
          "text": [
            "['கடளே', 'எனக்கு', 'நல்ல', 'குருவை', 'அடையாளம்', 'காட்டு', 'பாரா', 'தானோ', 'என', 'வேண்டினான்', 'அவனையாடா', 'அழைத்தாய்', 'இதுவே', 'அதாவது', 'அவளாவது']\n",
            "\n",
            "Total no of words : 15\n"
          ]
        }
      ],
      "source": [
        "#Word Count\n",
        "wrds=nltk.word_tokenize(input)\n",
        "\n",
        "count=len(wrds)\n",
        "\n",
        "print(wrds)\n",
        "print(\"\\nTotal no of words : \"+str(count))"
      ]
    },
    {
      "cell_type": "code",
      "execution_count": 9,
      "metadata": {
        "colab": {
          "base_uri": "https://localhost:8080/"
        },
        "id": "T_NUuRxACj-E",
        "outputId": "865439c0-ac59-4491-b403-51e8fc85b765"
      },
      "outputs": [
        {
          "name": "stdout",
          "output_type": "stream",
          "text": [
            "Uyir Eluthukal : 8\n",
            "\n",
            "Vallinam : 19\n",
            "melinam : 9\n",
            "idayinam : 18\n",
            "\n",
            "sanskrit letters : 0\n",
            "\n",
            "Total characters : 54\n"
          ]
        }
      ],
      "source": [
        "#character count\n",
        "vall=0\n",
        "mel=0\n",
        "idai=0\n",
        "sans=0\n",
        "uyirE=0\n",
        "\n",
        "for x in input:\n",
        "    if x in uyir:\n",
        "      uyirE+=1\n",
        "\n",
        "    elif x in vallinam:\n",
        "      vall+=1\n",
        "\n",
        "    elif x in mellinam:\n",
        "      mel+=1\n",
        "\n",
        "    elif x in idayinam:\n",
        "      idai+=1\n",
        "\n",
        "    elif x in sanskrit:\n",
        "      sans+=1\n",
        "      break\n",
        "\n",
        "print(\"Uyir Eluthukal : \"+str(uyirE))\n",
        "print(\"\\nVallinam : \"+str(vall))\n",
        "print(\"melinam : \"+str(mel))\n",
        "print(\"idayinam : \"+str(idai))\n",
        "print(\"\\nsanskrit letters : \"+str(sans))\n",
        "\n",
        "total = uyirE+mel+idai+vall+sans\n",
        "print(\"\\nTotal characters : \"+str(total))\n"
      ]
    },
    {
      "cell_type": "markdown",
      "metadata": {
        "id": "9OKA8wx1TMcx"
      },
      "source": [
        "# **Clitics Removal**"
      ]
    },
    {
      "cell_type": "code",
      "execution_count": 10,
      "metadata": {
        "colab": {
          "base_uri": "https://localhost:8080/"
        },
        "id": "Ee2j0n9zSqLi",
        "outputId": "f7d74f74-0e60-4786-a196-ca8d1415df05"
      },
      "outputs": [
        {
          "name": "stdout",
          "output_type": "stream",
          "text": [
            "['கடள்', 'எனக்கு', 'நல்ல', 'குருவை', 'அடையாளம்', 'காட்டு', 'பார்', 'தான்', 'என', 'வேண்டினான்', 'அவனைய்', 'அழைத்தாய்', 'இதுவ்', 'அதாவது', 'அவள்', 'ஆவது']\n"
          ]
        }
      ],
      "source": [
        "wrdsNew = []\n",
        "\n",
        "for x in wrds:\n",
        "  \n",
        "  last = x[len(x)-1]\n",
        "  z = ord(last)\n",
        "\n",
        "  thirdL = x[len(x)-3]\n",
        "  z1 = ord(thirdL)\n",
        "\n",
        "  if z1==3006 and z==3006 and len(x)>4: #remove \"aada\" sounds from the end \n",
        "    y = x[0:len(x)-3] + chr(3021)\n",
        "    wrdsNew.append(y)\n",
        "\n",
        "  elif (x.endswith(\"வது\") or x.endswith(\"னது\")) and ord(x[len(x)-4]) == 3006 and len(x)>6:\n",
        "      wrdsNew.append(x[0:len(x)-4] + chr(3021))\n",
        "      y = \"ஆ\" + x[-3:]\n",
        "      wrdsNew.append(y)\n",
        "\n",
        "  elif z==3006 or z==3015 or z==3019: # aa , ee and o sounds are removed\n",
        "    y = x[0:len(x)-1] + chr(3021)\n",
        "    wrdsNew.append(y)\n",
        "  \n",
        "  else:\n",
        "    wrdsNew.append(x)\n",
        "  \n",
        "print(wrdsNew)"
      ]
    },
    {
      "attachments": {},
      "cell_type": "markdown",
      "metadata": {
        "id": "pEjBNINy17nd"
      },
      "source": [
        "# **Gender Identification - பால்(PAAL)**"
      ]
    },
    {
      "cell_type": "code",
      "execution_count": 11,
      "metadata": {
        "colab": {
          "base_uri": "https://localhost:8080/"
        },
        "id": "iCd8ywe22ATE",
        "outputId": "6cdc1700-f91a-48c9-d406-8be066099959"
      },
      "outputs": [
        {
          "name": "stdout",
          "output_type": "stream",
          "text": [
            "வேண்டினான்\n",
            "அவள்\n",
            "\n",
            "Both the genders have been identified\n"
          ]
        }
      ],
      "source": [
        "m=\"\"\n",
        "\n",
        "for x in wrdsNew:\n",
        "  y = re.search(\"தான்|னான்|பான்|றான்|டான்|வான்|ணான்|தேன்|னேன்|பேன்|றேன்|டேன்|வேன்$\",x)\n",
        "  z = re.search(\"தாள்|னாள்|பாள்|றாள்|டாள்|வாள்|ணாள்|தேள்|னேள்|பேள்|றேள்|டேள்|வேள்$\",x)\n",
        "  \n",
        "  if len(x)>6:\n",
        "\n",
        "    if (z!=None):\n",
        "      if m==\"female\" or m==\"b\":\n",
        "        continue\n",
        "      elif m==\"male\":\n",
        "        m=\"b\"\n",
        "      else:\n",
        "        m=\"female\"\n",
        "        \n",
        "      print(x)\n",
        "\n",
        "    elif (y!=None):\n",
        "      if m==\"male\" or m==\"b\":\n",
        "        continue\n",
        "      elif m==\"female\":\n",
        "        m=\"b\"\n",
        "      else:\n",
        "        m=\"male\"\n",
        "\n",
        "      print(x)\n",
        "  \n",
        "  if m==\"b\":\n",
        "    break\n",
        "\n",
        "if \"அவள்\" in wrdsNew and \"அவன்\" in wrdsNew:\n",
        "    m=\"b\"\n",
        "    print(\"அவள்\")\n",
        "    print(\"அவன்\")\n",
        "\n",
        "\n",
        "elif \"அவள்\" in wrdsNew:\n",
        "    if m==\"male\":\n",
        "      m=\"b\"\n",
        "      print(\"அவள்\")\n",
        "    else:\n",
        "      m=\"female\"\n",
        "\n",
        "elif \"அவன்\" in wrdsNew:\n",
        "    if m==\"female\":\n",
        "      m=\"b\"\n",
        "      print(\"அவன்\")\n",
        "    else:\n",
        "      m=\"male\"\n",
        "\n",
        "if m==\"b\":\n",
        "  print(\"\\nBoth the genders have been identified\")\n",
        "\n",
        "elif m==\"male\":\n",
        "  print(\"\\nThe sentence is male specific - ஆண்பால்\")\n",
        "\n",
        "elif m==\"female\":\n",
        "  print(\"\\nThe sentence is female specific - பெண்பால்\")\n",
        "\n",
        "else:\n",
        "  print(\"\\nGender cannot be identified in the sentence\")"
      ]
    },
    {
      "attachments": {},
      "cell_type": "markdown",
      "metadata": {},
      "source": [
        "# **Tense Identification - காலம்(Kaalam)**"
      ]
    },
    {
      "cell_type": "code",
      "execution_count": 13,
      "metadata": {},
      "outputs": [
        {
          "name": "stdout",
          "output_type": "stream",
          "text": [
            "['தான்', 'வேண்டினான்']\n",
            "['p', 'p']\n",
            "\n",
            "Tense : Past (இறந்தகாலம்)\n"
          ]
        }
      ],
      "source": [
        "m = []\n",
        "xy = []\n",
        "\n",
        "for x in wrdsNew:\n",
        "    past = re.search(\"தான்|னான்|டான்|ணான்|தேன்|னேன்|டேன்$\",x)\n",
        "    present = re.search(\"றாள்|றான்|றேன்$\",x)\n",
        "    future = re.search(\"பான்|வான்|வாள்|பாள்|பேன்|வேன்$\",x)\n",
        "\n",
        "    if past!=None:\n",
        "        m.append(\"p\")\n",
        "        xy.append(x)\n",
        "\n",
        "    elif present!=None:\n",
        "        m.append(\"pr\")\n",
        "        xy.append(x)\n",
        "    \n",
        "    elif future!=None:\n",
        "        m.append(\"f\")\n",
        "        xy.append(x)\n",
        "\n",
        "print(xy)\n",
        "print(m)\n",
        "\n",
        "fT = max(m,key=m.count)\n",
        "\n",
        "if fT==\"p\":\n",
        "    print(\"\\nTense : Past (இறந்தகாலம்)\")\n",
        "\n",
        "elif fT==\"pr\":\n",
        "    print(\"\\nTense : Present (நிகழ்காலம்)\")\n",
        "\n",
        "elif fT==\"f\":\n",
        "    print(\"\\nTense : Future (எதிர்காலம்)\")\n",
        "\n",
        "else:\n",
        "    print(\"\\nNo tense can be identified in the sentence\")"
      ]
    },
    {
      "attachments": {},
      "cell_type": "markdown",
      "metadata": {},
      "source": [
        "# **Prepositions**"
      ]
    },
    {
      "cell_type": "code",
      "execution_count": 69,
      "metadata": {},
      "outputs": [
        {
          "name": "stdout",
          "output_type": "stream",
          "text": [
            "உள்ளே - inside\n",
            "அடியில - under\n",
            "உள்ளே - inside\n",
            "அடியில - under\n",
            "உள்ளே - inside\n",
            "அடியில - under\n"
          ]
        }
      ],
      "source": [
        "prepositions = [\"ல\",\"இல்\",\"உள்ள\",\"உள்ளே\",\"மேல\",\"மேலே\",\"மேல்\",\"அடியில\",\"அடியில்\",\"கீழ\",\"ககீழே\",\"கீழ்\"]\n",
        "prp_eng = [\"in\",\"in\",\"inside\",\"inside\",\"on\",\"on\",\"on\",\"under\",\"under\",\"under\",\"under\",\"under\"]\n",
        "\n",
        "for x in wrdsNew:\n",
        "    if x in prepositions:\n",
        "        print(x+\" - \",end=\"\")\n",
        "\n",
        "        z = prepositions.index(x)\n",
        "\n",
        "        print(prp_eng[z])"
      ]
    },
    {
      "attachments": {},
      "cell_type": "markdown",
      "metadata": {
        "id": "Q-c9ufHTM9Kr"
      },
      "source": [
        "# **Pronouns (Pirathi peyar chol) and இடம்(idam)**"
      ]
    },
    {
      "cell_type": "code",
      "execution_count": 12,
      "metadata": {
        "id": "UOVhWps-M79g"
      },
      "outputs": [
        {
          "name": "stdout",
          "output_type": "stream",
          "text": [
            "The following pronouns have been identified in the sentence\n",
            "\n",
            "எனக்கு I தன்மை\n",
            "அவள் she/her படர்க்கை\n"
          ]
        }
      ],
      "source": [
        "f = open(\"D:/jcomp/AI/AI/DataBase/pronouns.txt\",\"r\",encoding=\"utf-8\")\n",
        "\n",
        "pronouns = f.readlines()\n",
        "\n",
        "pr_tamil = []\n",
        "pr_eng = []\n",
        "tmp = []\n",
        "\n",
        "for i in range(len(pronouns)):\n",
        "    tmp = re.split(\" \",pronouns[i])\n",
        "    pr_tamil.append(tmp[0].rstrip())\n",
        "    pr_eng.append(tmp[1].rstrip())\n",
        "\n",
        "f.close()\n",
        "\n",
        "print(\"The following pronouns have been identified in the sentence\\n\")\n",
        "\n",
        "for x in wrdsNew:\n",
        "    if x in pr_tamil:\n",
        "        z = pr_tamil.index(x)\n",
        "\n",
        "        print(pronouns[z],end=\"\")"
      ]
    },
    {
      "cell_type": "markdown",
      "metadata": {
        "id": "gDv_-BF6BNFi"
      },
      "source": [
        "# **Transliteration to english**"
      ]
    },
    {
      "cell_type": "code",
      "execution_count": 23,
      "metadata": {
        "colab": {
          "base_uri": "https://localhost:8080/"
        },
        "id": "cRTBT-b-BSir",
        "outputId": "f7b58700-a7e9-40c9-988e-68c1c9f17d76"
      },
      "outputs": [
        {
          "name": "stdout",
          "output_type": "stream",
          "text": [
            "['kataL', 'eNakku', 'nalla', 'kuruvai', 'ataiyaaLam', 'kaattu', 'paar', 'thaaN', 'eNa', 'veeNntiNaaN', 'avaNaiy', 'azaiththaay', 'ithuv', 'athaavathu', 'avaL', 'aavathu']\n"
          ]
        }
      ],
      "source": [
        "#English characters\n",
        "\n",
        "eng1 = [\"a\",\"aa\",\"i\",\"ii\",\"u\",\"uu\",\"e\",\"ee\",\"ai\",\"o\",\"oo\",\"au\",\"aK\"]\n",
        "eng2 = [\"k\",\"nk\",\"c\",\"nc\",\"t\",\"Nn\",\"th\",\"n\",\"p\",\"m\",\"y\",\"r\",\"l\",\"v\",\"z\",\"L\",\"R\",\"N\"] \n",
        "\n",
        "eng_words = []\n",
        "\n",
        "for x in wrdsNew:\n",
        "  eg=\"\"\n",
        "\n",
        "  for y in x:\n",
        "    if y in uyir: \n",
        "      ind = uyir.index(y)\n",
        "      eg+= eng1[ind]\n",
        "    \n",
        "    elif y in mei:\n",
        "      ind = mei.index(y)\n",
        "      eg+= eng2[ind]+\"a\"\n",
        "    \n",
        "    elif ord(y)==3021:\n",
        "      eg = eg[0:len(eg)-1]\n",
        "      continue\n",
        "\n",
        "    elif ord(y) in asc:\n",
        "      ind = asc.index(ord(y))\n",
        "      eg = eg[0:len(eg)-1]\n",
        "      eg+= eng1[ind]\n",
        "\n",
        "  eng_words.append(eg)\n",
        "\n",
        "print(eng_words)"
      ]
    },
    {
      "attachments": {},
      "cell_type": "markdown",
      "metadata": {},
      "source": [
        "# **Root-words / stem checking**"
      ]
    },
    {
      "cell_type": "code",
      "execution_count": 70,
      "metadata": {},
      "outputs": [
        {
          "name": "stdout",
          "output_type": "stream",
          "text": [
            "eNakku\n",
            "ataiyaaLam\n",
            "kaattu\n",
            "paar\n",
            "thaaN\n",
            "athaavathu\n",
            "avaL\n",
            "aavathu\n"
          ]
        }
      ],
      "source": [
        "#we have a database containing the tamil words for nouns and verbs. We check if the words obtained are stems.\n",
        "\n",
        "f1=open(\"D:/jcomp/AI/AI/DataBase/Noun.txt\",\"r\")\n",
        "f2=open(\"D:/jcomp/AI/AI/DataBase/verb.txt\",\"r\")\n",
        "\n",
        "nounList = f1.readlines()\n",
        "verbList = f1.readlines()\n",
        "\n",
        "for i in range(len(nounList)):\n",
        "    nounList[i] = nounList[i].rstrip()\n",
        "\n",
        "for i in range(len(verbList)):\n",
        "    verbList[i] = verbList[i].rstrip()\n",
        "\n",
        "for x in eng_words:\n",
        "    if x in nounList:\n",
        "        print(x)\n",
        "    elif x in verbList:\n",
        "        print(x)\n",
        "\n",
        "f1.close()\n",
        "f2.close()"
      ]
    }
  ],
  "metadata": {
    "colab": {
      "provenance": []
    },
    "kernelspec": {
      "display_name": "Python 3",
      "language": "python",
      "name": "python3"
    },
    "language_info": {
      "codemirror_mode": {
        "name": "ipython",
        "version": 3
      },
      "file_extension": ".py",
      "mimetype": "text/x-python",
      "name": "python",
      "nbconvert_exporter": "python",
      "pygments_lexer": "ipython3",
      "version": "3.10.4"
    },
    "vscode": {
      "interpreter": {
        "hash": "8fff43dade2e40ca38b09b8fc9bddda6d15e9b8bc2eabe7952aa44ab1e00d2e2"
      }
    }
  },
  "nbformat": 4,
  "nbformat_minor": 0
}
